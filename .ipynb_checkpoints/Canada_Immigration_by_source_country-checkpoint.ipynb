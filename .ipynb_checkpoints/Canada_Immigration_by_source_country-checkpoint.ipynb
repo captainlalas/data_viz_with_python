{
 "cells": [
  {
   "cell_type": "code",
   "execution_count": 1,
   "id": "d92b506e",
   "metadata": {},
   "outputs": [],
   "source": [
    "import pandas as pd\n",
    "import numpy as np"
   ]
  },
  {
   "cell_type": "code",
   "execution_count": 2,
   "id": "51d6652f",
   "metadata": {},
   "outputs": [
    {
     "name": "stdout",
     "output_type": "stream",
     "text": [
      "Requirement already satisfied: openpyxl in c:\\users\\alex brizo\\anaconda3\\lib\\site-packages (3.0.9)\n",
      "Requirement already satisfied: et-xmlfile in c:\\users\\alex brizo\\anaconda3\\lib\\site-packages (from openpyxl) (1.1.0)\n",
      "openpyxl installed\n"
     ]
    }
   ],
   "source": [
    "!pip install openpyxl\n",
    "print(\"openpyxl installed\")"
   ]
  },
  {
   "cell_type": "markdown",
   "id": "be28d604",
   "metadata": {},
   "source": [
    "## About the data: \n",
    "#### The data used for our project is from the Immigration, Refugees and Citizenship of Canada (IRCC).\n",
    "Facts and Figures 2017: Immigration Overview - Permanent Residents - 15. Canada - Permanent residents by source country, 2008 - 2017\n",
    "Link: https://open.canada.ca/data/en/dataset/082f05ba-e333-4132-ba42-72828d95200b/resource/c2cc1d39-9a60-488f-a245-83f4edf0c229"
   ]
  },
  {
   "cell_type": "code",
   "execution_count": 2,
   "id": "bfd90d92",
   "metadata": {},
   "outputs": [
    {
     "data": {
      "text/html": [
       "<div>\n",
       "<style scoped>\n",
       "    .dataframe tbody tr th:only-of-type {\n",
       "        vertical-align: middle;\n",
       "    }\n",
       "\n",
       "    .dataframe tbody tr th {\n",
       "        vertical-align: top;\n",
       "    }\n",
       "\n",
       "    .dataframe thead th {\n",
       "        text-align: right;\n",
       "    }\n",
       "</style>\n",
       "<table border=\"1\" class=\"dataframe\">\n",
       "  <thead>\n",
       "    <tr style=\"text-align: right;\">\n",
       "      <th></th>\n",
       "      <th>Year/année</th>\n",
       "      <th>Source Country</th>\n",
       "      <th>Pays d'origine</th>\n",
       "      <th>Number/Nombre</th>\n",
       "    </tr>\n",
       "  </thead>\n",
       "  <tbody>\n",
       "    <tr>\n",
       "      <th>0</th>\n",
       "      <td>2008</td>\n",
       "      <td>India</td>\n",
       "      <td>Inde</td>\n",
       "      <td>28255</td>\n",
       "    </tr>\n",
       "    <tr>\n",
       "      <th>1</th>\n",
       "      <td>2008</td>\n",
       "      <td>Philippines</td>\n",
       "      <td>Philippines</td>\n",
       "      <td>24883</td>\n",
       "    </tr>\n",
       "    <tr>\n",
       "      <th>2</th>\n",
       "      <td>2008</td>\n",
       "      <td>China, People's Republic of</td>\n",
       "      <td>Chine, République populaire de</td>\n",
       "      <td>30030</td>\n",
       "    </tr>\n",
       "    <tr>\n",
       "      <th>3</th>\n",
       "      <td>2008</td>\n",
       "      <td>Syria</td>\n",
       "      <td>Syrie</td>\n",
       "      <td>919</td>\n",
       "    </tr>\n",
       "    <tr>\n",
       "      <th>4</th>\n",
       "      <td>2008</td>\n",
       "      <td>United States of America</td>\n",
       "      <td>États-Unis d'Amérique</td>\n",
       "      <td>10186</td>\n",
       "    </tr>\n",
       "  </tbody>\n",
       "</table>\n",
       "</div>"
      ],
      "text/plain": [
       "   Year/année               Source Country                  Pays d'origine  \\\n",
       "0        2008                        India                            Inde   \n",
       "1        2008                  Philippines                     Philippines   \n",
       "2        2008  China, People's Republic of  Chine, République populaire de   \n",
       "3        2008                        Syria                           Syrie   \n",
       "4        2008     United States of America           États-Unis d'Amérique   \n",
       "\n",
       "   Number/Nombre  \n",
       "0          28255  \n",
       "1          24883  \n",
       "2          30030  \n",
       "3            919  \n",
       "4          10186  "
      ]
     },
     "execution_count": 2,
     "metadata": {},
     "output_type": "execute_result"
    }
   ],
   "source": [
    "df_can = pd.read_csv(\"https://www.ircc.canada.ca/opendata-donneesouvertes/data/IRCC_FF_PR_2017_15_CSV.csv\", \n",
    "                     encoding='latin-1', skiprows=5)\n",
    "df_can.head()"
   ]
  },
  {
   "cell_type": "code",
   "execution_count": 15,
   "id": "e1b818ea",
   "metadata": {},
   "outputs": [
    {
     "data": {
      "text/html": [
       "<div>\n",
       "<style scoped>\n",
       "    .dataframe tbody tr th:only-of-type {\n",
       "        vertical-align: middle;\n",
       "    }\n",
       "\n",
       "    .dataframe tbody tr th {\n",
       "        vertical-align: top;\n",
       "    }\n",
       "\n",
       "    .dataframe thead th {\n",
       "        text-align: right;\n",
       "    }\n",
       "</style>\n",
       "<table border=\"1\" class=\"dataframe\">\n",
       "  <thead>\n",
       "    <tr style=\"text-align: right;\">\n",
       "      <th></th>\n",
       "      <th>year</th>\n",
       "      <th>source country</th>\n",
       "      <th>number</th>\n",
       "    </tr>\n",
       "  </thead>\n",
       "  <tbody>\n",
       "    <tr>\n",
       "      <th>0</th>\n",
       "      <td>2008</td>\n",
       "      <td>India</td>\n",
       "      <td>28255</td>\n",
       "    </tr>\n",
       "    <tr>\n",
       "      <th>1</th>\n",
       "      <td>2008</td>\n",
       "      <td>Philippines</td>\n",
       "      <td>24883</td>\n",
       "    </tr>\n",
       "    <tr>\n",
       "      <th>2</th>\n",
       "      <td>2008</td>\n",
       "      <td>China, People's Republic of</td>\n",
       "      <td>30030</td>\n",
       "    </tr>\n",
       "    <tr>\n",
       "      <th>3</th>\n",
       "      <td>2008</td>\n",
       "      <td>Syria</td>\n",
       "      <td>919</td>\n",
       "    </tr>\n",
       "    <tr>\n",
       "      <th>4</th>\n",
       "      <td>2008</td>\n",
       "      <td>United States of America</td>\n",
       "      <td>10186</td>\n",
       "    </tr>\n",
       "  </tbody>\n",
       "</table>\n",
       "</div>"
      ],
      "text/plain": [
       "   year               source country  number\n",
       "0  2008                        India   28255\n",
       "1  2008                  Philippines   24883\n",
       "2  2008  China, People's Republic of   30030\n",
       "3  2008                        Syria     919\n",
       "4  2008     United States of America   10186"
      ]
     },
     "execution_count": 15,
     "metadata": {},
     "output_type": "execute_result"
    }
   ],
   "source": [
    "# The column source country is duplicated with a French column since Canada is Bilingual, \n",
    "# let's drop that and do a bit of cleaning\n",
    "df_can.drop(\"Pays d'origine\", axis=1, inplace=True)\n",
    "df_can.rename(columns={\"Year/année\":\"year\", \"Source Country\":\"source country\", \"Number/Nombre\":\"number\"}, inplace=True)\n",
    "df_can.head()"
   ]
  },
  {
   "cell_type": "code",
   "execution_count": 13,
   "id": "0976c6ec",
   "metadata": {},
   "outputs": [
    {
     "data": {
      "text/plain": [
       "(2120, 3)"
      ]
     },
     "execution_count": 13,
     "metadata": {},
     "output_type": "execute_result"
    }
   ],
   "source": [
    "df_can.shape"
   ]
  },
  {
   "cell_type": "code",
   "execution_count": 22,
   "id": "50fccab9",
   "metadata": {},
   "outputs": [],
   "source": [
    "# Our table is too long to work with, let's make it wider (years) with the countries as index\n",
    "df_2017 = df_can.pivot_table(index='source country', columns='year', values='number')"
   ]
  },
  {
   "cell_type": "code",
   "execution_count": 23,
   "id": "253e51b8",
   "metadata": {},
   "outputs": [
    {
     "data": {
      "text/plain": [
       "(212, 10)"
      ]
     },
     "execution_count": 23,
     "metadata": {},
     "output_type": "execute_result"
    }
   ],
   "source": [
    "df_2017.shape"
   ]
  }
 ],
 "metadata": {
  "kernelspec": {
   "display_name": "Python 3 (ipykernel)",
   "language": "python",
   "name": "python3"
  },
  "language_info": {
   "codemirror_mode": {
    "name": "ipython",
    "version": 3
   },
   "file_extension": ".py",
   "mimetype": "text/x-python",
   "name": "python",
   "nbconvert_exporter": "python",
   "pygments_lexer": "ipython3",
   "version": "3.9.7"
  }
 },
 "nbformat": 4,
 "nbformat_minor": 5
}
